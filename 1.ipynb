{
 "cells": [
  {
   "cell_type": "markdown",
   "id": "632a163a",
   "metadata": {},
   "source": [
    "# Part 1"
   ]
  },
  {
   "cell_type": "code",
   "execution_count": 1,
   "id": "521eaad0",
   "metadata": {},
   "outputs": [],
   "source": [
    "with open(\"inputs/1.in\") as f:\n",
    "    lines = f.readlines()\n",
    "    input = [int(l) for l in lines]"
   ]
  },
  {
   "cell_type": "code",
   "execution_count": 3,
   "id": "780e7cbb",
   "metadata": {},
   "outputs": [
    {
     "data": {
      "text/plain": [
       "1199"
      ]
     },
     "execution_count": 3,
     "metadata": {},
     "output_type": "execute_result"
    }
   ],
   "source": [
    "input[-1]"
   ]
  },
  {
   "cell_type": "markdown",
   "id": "fe749589",
   "metadata": {},
   "source": [
    "That's right!"
   ]
  },
  {
   "cell_type": "code",
   "execution_count": 5,
   "id": "8b7f2403",
   "metadata": {},
   "outputs": [
    {
     "data": {
      "text/plain": [
       "1121"
      ]
     },
     "execution_count": 5,
     "metadata": {},
     "output_type": "execute_result"
    }
   ],
   "source": [
    "last = input[0]\n",
    "to_return = 0\n",
    "for i in input:\n",
    "    if i > last:\n",
    "        to_return += 1\n",
    "    last = i\n",
    "to_return"
   ]
  },
  {
   "cell_type": "markdown",
   "id": "c599a358",
   "metadata": {},
   "source": [
    "# Part 2"
   ]
  },
  {
   "cell_type": "code",
   "execution_count": null,
   "id": "4a9459f9",
   "metadata": {},
   "outputs": [],
   "source": [
    "def increases(input):\n",
    "    last = input[0]\n",
    "    to_return = 0\n",
    "    for i in input:\n",
    "        if i > last:\n",
    "            to_return += 1\n",
    "        last = i\n",
    "    return to_return"
   ]
  },
  {
   "cell_type": "code",
   "execution_count": 6,
   "id": "5d0ac7aa",
   "metadata": {},
   "outputs": [
    {
     "ename": "SyntaxError",
     "evalue": "invalid syntax (Temp/ipykernel_15756/1199624141.py, line 2)",
     "output_type": "error",
     "traceback": [
      "\u001b[1;36m  File \u001b[1;32m\"C:\\Users\\JBROWN~1\\AppData\\Local\\Temp/ipykernel_15756/1199624141.py\"\u001b[1;36m, line \u001b[1;32m2\u001b[0m\n\u001b[1;33m    for i in range(len(input) - 2)\u001b[0m\n\u001b[1;37m                                  ^\u001b[0m\n\u001b[1;31mSyntaxError\u001b[0m\u001b[1;31m:\u001b[0m invalid syntax\n"
     ]
    }
   ],
   "source": [
    "moving_sum = []\n",
    "for i in range(len(input) - 2)\n",
    "    s = 0\n",
    "    for di in range(3):\n",
    "        s += input[i+di]\n",
    "    moving_sum.append(s)\n",
    "    \n",
    "increases(moving_sum"
   ]
  },
  {
   "cell_type": "code",
   "execution_count": null,
   "id": "407712f2",
   "metadata": {},
   "outputs": [],
   "source": []
  }
 ],
 "metadata": {
  "kernelspec": {
   "display_name": "Python 3 (ipykernel)",
   "language": "python",
   "name": "python3"
  },
  "language_info": {
   "codemirror_mode": {
    "name": "ipython",
    "version": 3
   },
   "file_extension": ".py",
   "mimetype": "text/x-python",
   "name": "python",
   "nbconvert_exporter": "python",
   "pygments_lexer": "ipython3",
   "version": "3.8.10"
  }
 },
 "nbformat": 4,
 "nbformat_minor": 5
}
